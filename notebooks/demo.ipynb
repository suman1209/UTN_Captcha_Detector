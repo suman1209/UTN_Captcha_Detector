{
 "cells": [
  {
   "cell_type": "markdown",
   "metadata": {},
   "source": [
    "# Imports"
   ]
  },
  {
   "cell_type": "code",
   "execution_count": 1,
   "metadata": {},
   "outputs": [],
   "source": [
    "%load_ext autoreload\n",
    "%autoreload 2\n",
    "import sys\n",
    "import time\n",
    "sys.path.insert(0, \"../\")\n",
    "import os\n",
    "import torch\n",
    "from pathlib import Path\n",
    "import matplotlib.pyplot as plt\n",
    "import numpy as np\n",
    "from src_code.task_utils.config_parser import ConfigParser\n",
    "from src_code.data_utils.dataset_utils import CaptchaDataset, get_dataloader\n",
    "from src_code.data_utils.preprocessing import get_img_transform, get_rectangle_img_transform\n",
    "from src_code.model_utils.mnist_ssd import SSD, BaseConv, pretty_print_module_list, AuxConv\n",
    "import src_code.model_utils.utils_mnist_ssd as utils_mnist_ssd\n",
    "from src_code.model_utils.mnist_ssd import SSD\n",
    "from torch import nn\n",
    "import yaml\n",
    "from torchvision.utils import draw_bounding_boxes\n",
    "from src_code.task_utils.evaluation import edit_score\n",
    "import json\n",
    "import os\n"
   ]
  },
  {
   "cell_type": "markdown",
   "metadata": {},
   "source": [
    "# Load Config Files"
   ]
  },
  {
   "cell_type": "code",
   "execution_count": 2,
   "metadata": {},
   "outputs": [
    {
     "name": "stdout",
     "output_type": "stream",
     "text": [
      "config = {'task': 'train', 'data_configs': {'train_path': 'datasets/utn_dataset_curated/part2/train', 'val_path': 'datasets/utn_dataset_curated/part2/val', 'test_path': 'datasets/utn_dataset_curated/part2/test', 'preprocessing_related': {'color': False, 'mean': 0.5, 'std': 0.5, 'downscale_factor': 4}, 'dataset_related': {'train_preprocessed_dir': '../datasets/utn_dataset/part2/train/images', 'val_preprocessed_dir': '../datasets/utn_dataset/part2/val/images', 'test_preprocessed_dir': '../datasets/utn_dataset/part2/test/images', 'train_labels_dir': '../datasets/utn_dataset/part2/train/labels', 'val_labels_dir': '../datasets/utn_dataset/part2/val/labels', 'augment': True, 'shuffle': False}, 'augmentation_related': {'flip_prob': 0.5, 'zoom_prob': 0.3, 'rotation_prob': 0.2, 'line_prob': 0.1, 'salt_pepper_prob': 0.2}}, 'model_configs': {'name': 'ssd_mnist', 'resume_from_checkpoint_path': None, 'log_gradients': False, 'checkpoint': None, 'print_freq': 500, 'epochs': 10, 'batch_size': 100, 'device': 'cuda', 'backbone': {'name': 'VGG16', 'num_stages': 6}, 'loss': {'alpha': 0.25, 'pos_box_threshold': 0.5, 'hard_neg_pos': 3}, 'optim': {'name': 'SGD', 'lr': 0.001, 'momentum': 0.9, 'weight_decay': 0.0005, 'clip_grad': None}, 'scheduler': {'name': 'LinearLR', 'milestones': [10, 20], 'gamma': 0.1, 'start_factor': 0.5, 'total_iter': 4}}, 'task_configs': {'img_height': 160, 'img_width': 640, 'debug': True, 'log_expt': False, 'num_classes': 37, 'nms_min_cls_score': 0.01, 'nms_iou_score': 0.1, 'nms_topk': 20}}\n"
     ]
    }
   ],
   "source": [
    "# Load the base config\n",
    "base_config_path = \"../configs/configs_common_notebook.yaml\"\n",
    "if not Path(base_config_path).exists():\n",
    "    raise FileNotFoundError(f\"Base config file not found: {base_config_path}\")\n",
    "\n",
    "with open(base_config_path, \"r\") as file:\n",
    "    base_config_dict = yaml.safe_load(file)\n",
    "\n",
    "configs = ConfigParser(base_config_dict).get_parser()\n",
    "\n",
    "# Load the SSD-specific config\n",
    "ssd_config_path = \"../configs/default_ssd_configs.yaml\"\n",
    "if not Path(ssd_config_path).exists():\n",
    "    raise FileNotFoundError(f\"SSD config file not found: {ssd_config_path}\")\n",
    "\n",
    "with open(ssd_config_path, \"r\") as file:\n",
    "    ssd_config_dict = yaml.safe_load(file)\n",
    "\n",
    "configs.update(ssd_config_dict)"
   ]
  },
  {
   "cell_type": "markdown",
   "metadata": {},
   "source": [
    "# Load all required dataloaders"
   ]
  },
  {
   "cell_type": "code",
   "execution_count": 3,
   "metadata": {},
   "outputs": [
    {
     "name": "stdout",
     "output_type": "stream",
     "text": [
      "train:  60000\n",
      "val:  20000\n",
      "part2:  20000\n",
      "part3:  20000\n",
      "part4:  20000\n"
     ]
    }
   ],
   "source": [
    "train_dataset = CaptchaDataset(\n",
    "    configs.train_preprocessed_dir,\n",
    "    labels_dir=configs.train_labels_dir,\n",
    "    augment=False,\n",
    "    config=configs,\n",
    "    img_transform=get_rectangle_img_transform(configs)\n",
    ")\n",
    "\n",
    "\n",
    "val_dataset = CaptchaDataset(\n",
    "    configs.val_preprocessed_dir,\n",
    "    labels_dir=configs.val_labels_dir,\n",
    "    augment=False,\n",
    "    config=configs,\n",
    "    img_transform=get_rectangle_img_transform(configs)\n",
    ")\n",
    "\n",
    "part2_test_dataset = CaptchaDataset(\n",
    "    '../datasets/utn_dataset/part2/test/images',\n",
    "    labels_dir=None,\n",
    "    augment=False,\n",
    "    config=configs,\n",
    "    img_transform=get_rectangle_img_transform(configs)\n",
    ")\n",
    "part3_test_dataset = CaptchaDataset(\n",
    "    '../datasets/utn_dataset/part3/test/images',\n",
    "    labels_dir=None,\n",
    "    augment=False,\n",
    "    config=configs,\n",
    "    img_transform=get_rectangle_img_transform(configs)\n",
    ")\n",
    "part4_test_dataset = CaptchaDataset(\n",
    "    '../datasets/utn_dataset/part4/test/images',\n",
    "    labels_dir=None,\n",
    "    augment=False,\n",
    "    config=configs,\n",
    "    img_transform=get_rectangle_img_transform(configs)\n",
    ")\n",
    "\n",
    "train_loader = get_dataloader(train_dataset, configs)\n",
    "val_loader = get_dataloader(val_dataset, configs)\n",
    "part2_test_loader = get_dataloader(part2_test_dataset, configs)\n",
    "part3_test_loader = get_dataloader(part3_test_dataset, configs)\n",
    "part4_test_loader = get_dataloader(part4_test_dataset, configs)\n",
    "\n",
    "print('train: ', len(train_loader.dataset))\n",
    "print('val: ', len(val_loader.dataset))\n",
    "print('part2: ', len(part2_test_loader.dataset))\n",
    "print('part3: ', len(part3_test_loader.dataset))\n",
    "print('part4: ', len(part4_test_loader.dataset))"
   ]
  },
  {
   "cell_type": "markdown",
   "metadata": {},
   "source": [
    "# Load Model and checkpoint"
   ]
  },
  {
   "cell_type": "code",
   "execution_count": 4,
   "metadata": {},
   "outputs": [],
   "source": [
    "checkpoint_path = \"../docs_and_results/demo/model_checkpoint_20.pth\""
   ]
  },
  {
   "cell_type": "code",
   "execution_count": 5,
   "metadata": {},
   "outputs": [],
   "source": [
    "base_conv = BaseConv(configs.base_conv_conv_layers, \n",
    "                    configs.base_conv_input_size, chosen_fm=[-2, -1],\n",
    "                    norm=nn.BatchNorm2d, act_fn=nn.ReLU(), spectral=False).to(configs.device)"
   ]
  },
  {
   "cell_type": "code",
   "execution_count": 6,
   "metadata": {},
   "outputs": [
    {
     "name": "stdout",
     "output_type": "stream",
     "text": [
      "There are 12780 priors in this model\n",
      "Done initialization\n"
     ]
    }
   ],
   "source": [
    "new_h = configs.img_height // configs.downscale_factor\n",
    "new_w = configs.img_width // configs.downscale_factor\n",
    "setattr(configs, \"base_conv_input_size\", [new_h, new_w])\n",
    "test_img = torch.zeros([1,1,configs.base_conv_input_size[0], configs.base_conv_input_size[1]]).to(configs.device)\n",
    "base_size = pretty_print_module_list(base_conv.module_list, test_img)\n",
    "\n",
    "aux_conv = AuxConv(configs.aux_conv_conv_layers, \n",
    "                configs.aux_conv_input_size, norm=nn.BatchNorm2d, act_fn=nn.ReLU(), spectral=False)\n",
    "aux_size = pretty_print_module_list(aux_conv.module_list, torch.zeros(base_size[-1]))\n",
    "\n",
    "setattr(configs, 'fm_channels', [base_size[i][1] for i in base_conv.fm_id] + [aux_size[i][1] for i in aux_conv.fm_id])\n",
    "setattr(configs, 'fm_size', [base_size[i][-2:] for i in base_conv.fm_id] + [aux_size[i][-2:] for i in aux_conv.fm_id])\n",
    "setattr(configs, 'n_fm', len(configs.fm_channels))\n",
    "setattr(configs,'fm_prior_aspect_ratio', configs.fm_prior_aspect_ratio[:configs.n_fm])\n",
    "setattr(configs,'fm_prior_scale', np.linspace(0.1, 0.9, configs.n_fm)) #[0.2, 0.375, 0.55, 0.725, 0.9] # [0.1, 0.2, 0.375, 0.55, 0.725, 0.9] \n",
    "assert len(configs.fm_prior_scale) == len(configs.fm_prior_aspect_ratio)\n",
    "setattr(configs, 'n_prior_per_pixel', [len(i)+1 for i in configs.fm_prior_aspect_ratio]) #in fm1, each pixel has 4 priors\n",
    "setattr(configs, 'multistep_milestones', list(range(10, configs.epochs, 5)))\n",
    "utils_mnist_ssd.img_size = base_size[0][-1]\n",
    "\n",
    "model = SSD(configs, base_conv, aux_conv).to(configs.device)\n",
    "\n",
    "checkpoint = torch.load(checkpoint_path, weights_only=False, map_location=configs.device)\n",
    "# Load model state\n",
    "model.load_state_dict(checkpoint[\"model_state\"])\n",
    "model = model.to(configs.device)\n",
    "model = model.eval()"
   ]
  },
  {
   "cell_type": "markdown",
   "metadata": {},
   "source": [
    "# Generate final JSON predictions"
   ]
  },
  {
   "cell_type": "code",
   "execution_count": 7,
   "metadata": {},
   "outputs": [],
   "source": [
    "# from src_code.task_utils.evaluation import test_generate_captchas_submission\n",
    "# for item in ['part2', 'part3', 'part4']:\n",
    "#     st_time = time.time()\n",
    "#     test_generate_captchas_submission(model, part4_test_loader, configs, test_path = f\"../datasets/utn_dataset/{item}/test/images\", output_file = f\"../docs_and_results/prediction_jsons/{item}.json\")\n",
    "#     et_time = time.time()\n",
    "#     time_taken = et_time - st_time\n",
    "#     print(f\"{time_taken}sec taken for generating\")"
   ]
  },
  {
   "cell_type": "markdown",
   "metadata": {},
   "source": [
    "# Generate predicted bounding boxes"
   ]
  },
  {
   "cell_type": "code",
   "execution_count": 17,
   "metadata": {},
   "outputs": [
    {
     "data": {
      "image/png": "[encoded data removed]",
      "text/plain": [
       "<Figure size 640x480 with 1 Axes>"
      ]
     },
     "metadata": {},
     "output_type": "display_data"
    },
    {
     "data": {
      "text/plain": [
       "<Figure size 640x480 with 0 Axes>"
      ]
     },
     "metadata": {},
     "output_type": "display_data"
    }
   ],
   "source": [
    "# Sample image\n",
    "import os\n",
    "import torch\n",
    "import json\n",
    "from PIL import Image\n",
    "from src_code.data_utils.preprocessing import get_rectangle_img_transform\n",
    "import torchvision\n",
    "import matplotlib.pyplot as plt\n",
    "from src_code.task_utils.evaluation import plot_image_with_bboxes\n",
    "# for i in range(20000):\n",
    "#     tr:\n",
    "image_id = \"000053.png\"\n",
    "image = Image.open(f'../datasets/utn_dataset/part2/test/images/{image_id}').convert(\"RGB\")\n",
    "image_preprocessed = get_rectangle_img_transform(configs)(image)\n",
    "image_torch = torchvision.transforms.functional.pil_to_tensor(image)\n",
    "plt.imshow(image)\n",
    "image_preprocessed = image_preprocessed.unsqueeze(0).to(configs.device)\n",
    "# Model prediction\n",
    "with torch.no_grad():\n",
    "    loc_preds, cls_preds, _ = model(image_preprocessed)\n",
    "    boxes, labels, scores = model.detect_object(loc_preds, cls_preds, min_score=0.3, max_overlap=0.5,top_k=20)\n",
    "    plot_image_with_bboxes(image_id, configs, image, boxes[0], labels[0])"
   ]
  },
  {
   "cell_type": "code",
   "execution_count": 12,
   "metadata": {},
   "outputs": [],
   "source": [
    "from src_code.task_utils.evaluation import generate_edit_distance"
   ]
  },
  {
   "cell_type": "code",
   "execution_count": 13,
   "metadata": {},
   "outputs": [
    {
     "name": "stderr",
     "output_type": "stream",
     "text": [
      "100%|█████████████████████████████████████████████████████████████████| 600/600 [10:21<00:00,  1.04s/it]\n",
      "100%|█████████████████████████████████████████████████████████████| 200/200 [03:30<00:00,  1.05s/it]\n"
     ]
    }
   ],
   "source": [
    "mean_edit_distance_train_loader, train_captcha_count = generate_edit_distance(model, train_loader, configs)\n",
    "mean_edit_distance_val_loader, val_captcha_count = generate_edit_distance(model, val_loader, configs)"
   ]
  },
  {
   "cell_type": "code",
   "execution_count": 14,
   "metadata": {},
   "outputs": [
    {
     "name": "stdout",
     "output_type": "stream",
     "text": [
      "mean_edit_distance_val_loader = 24.3633\n",
      "mean_edit_distance_train_loader = 22.23675\n"
     ]
    }
   ],
   "source": [
    "print(f\"{mean_edit_distance_val_loader = }\")\n",
    "print(f\"{mean_edit_distance_train_loader = }\")"
   ]
  }
 ],
 "metadata": {
  "kernelspec": {
   "display_name": "Python 3 (ipykernel)",
   "language": "python",
   "name": "python3"
  },
  "language_info": {
   "codemirror_mode": {
    "name": "ipython",
    "version": 3
   },
   "file_extension": ".py",
   "mimetype": "text/x-python",
   "name": "python",
   "nbconvert_exporter": "python",
   "pygments_lexer": "ipython3",
   "version": "3.10.12"
  }
 },
 "nbformat": 4,
 "nbformat_minor": 4
}
