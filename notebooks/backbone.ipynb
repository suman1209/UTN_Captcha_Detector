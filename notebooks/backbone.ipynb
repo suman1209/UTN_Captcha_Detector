{
 "cells": [
  {
   "cell_type": "markdown",
   "id": "b4f8e11b-2c1f-4bf4-96a4-09d0d14c768e",
   "metadata": {},
   "source": [
    "# Configs"
   ]
  },
  {
   "cell_type": "code",
   "execution_count": 1,
   "id": "4afb6613-bac6-4c1a-a10a-dd2e0302aed0",
   "metadata": {},
   "outputs": [],
   "source": [
    "train_path = \"../datasets/utn_dataset_curated/part2/train\"\n",
    "val_path = \"../datasets/utn_dataset_curated/part2/val\"\n",
    "batch_size = 2"
   ]
  },
  {
   "cell_type": "markdown",
   "id": "1079c556-83d1-43f6-a0e0-f403730021f6",
   "metadata": {},
   "source": [
    "# Dataset\n",
    "This is just a simple dataset and dataloader, will be replaced by the proper dataloader later"
   ]
  },
  {
   "cell_type": "code",
   "execution_count": 2,
   "id": "6ff53952-c722-4268-b4bb-fddb9c76a154",
   "metadata": {},
   "outputs": [],
   "source": [
    "from torchvision.datasets import VisionDataset\n",
    "import torch\n",
    "import os\n",
    "from pathlib import Path\n",
    "from torchvision.io import read_image\n",
    "import matplotlib.pyplot as plt\n",
    "import torchvision.transforms.functional as F\n",
    "import numpy as np\n",
    "import torch.utils.data as data\n",
    "import torchvision.transforms as T\n",
    "class CaptchaDatasetUTN(VisionDataset):\n",
    "    def __init__(self, data_path: str,\n",
    "                 img_transform=None,\n",
    "                 target_transform=None,):\n",
    "        super(CaptchaDatasetUTN).__init__()\n",
    "        self.img_transform = img_transform\n",
    "        self.target_transform = target_transform\n",
    "        self.data_path = data_path\n",
    "        self.img_paths = self._get_paths(data_path, suffix=\"/images/\")\n",
    "        self.ann_paths = self._get_paths(data_path, suffix=\"/labels/\")\n",
    "        # we hardcode the following values for the UTN dataset\n",
    "        self.img_height, self.img_width = 160, 640\n",
    "\n",
    "    @staticmethod\n",
    "    def _get_paths(data_path, suffix):\n",
    "        img_path =  data_path + suffix\n",
    "        assert os.path.exists(img_path), f\"{img_path} does not exist!\"\n",
    "        file_list = list(Path(img_path).glob('**/*'))\n",
    "        file_names = [p for p in file_list if p.is_file()]\n",
    "        file_names = sorted(file_names, key=lambda x: int(str(x).split(\"/\")[-1].split(\".\")[0]))\n",
    "        return file_names\n",
    "\n",
    "    def __getitem__(self, idx: int) -> list[tuple[torch.Tensor, torch.Tensor]]:\n",
    "        if idx >= len(self) or idx < 0:\n",
    "            # needed for iterator stop condition\n",
    "            raise IndexError(f\"{self.data_path} has {len(self)} files!\")\n",
    "        factor = 4\n",
    "        img_path = str(self.img_paths[idx])\n",
    "        mu, std = (137.71044921875, 60.335174560546875)\n",
    "        # for some reason, the provided dataset has four channels\n",
    "        img = read_image(f'{img_path}')[:3, :, :].to(dtype=torch.float32)\n",
    "        img = T.Normalize((-mu), (1/std))(img)\n",
    "        img = T.Grayscale()(img)\n",
    "        h, w = img.shape[-2: ]\n",
    "        size=(h//factor, w//factor)\n",
    "        img = T.Resize(size, antialias=False)(img)\n",
    "        img = img\n",
    "        \n",
    "        assert img.size(0) == 1, f\"invalid channels in gray image: {img.shape}\"\n",
    "        if self.img_transform:\n",
    "            img = self.img_transform(img)\n",
    "        assert isinstance(img, torch.Tensor), f\"got transformed img of type{type(img)}!\"\n",
    "        with open(f\"{self.ann_paths[idx]}\", \"r\") as fo:\n",
    "            ann = []\n",
    "            for line in fo:\n",
    "                ann.append(line.split())\n",
    "        count = 0\n",
    "        for obj in ann:\n",
    "            count += 1\n",
    "        # transform bounding boxes\n",
    "        if self.target_transform is not None:\n",
    "            bboxes = self.target_transform(bboxes)\n",
    "        return img, count\n",
    "    \n",
    "    def __len__(self) -> int:\n",
    "        return len(self.img_paths)\n",
    "        \n",
    "    def show(self, imgs, title=\"\"):\n",
    "        if not isinstance(imgs, list):\n",
    "            imgs = [imgs]\n",
    "        fix, axs = plt.subplots(ncols=len(imgs), squeeze=False)\n",
    "        plt.title(title)\n",
    "        for i, img in enumerate(imgs):\n",
    "            # img = img.detach()\n",
    "            img = F.to_pil_image(img)\n",
    "            axs[0, i].imshow(np.asarray(img), cmap='gray', vmin=0, vmax=255)\n",
    "            axs[0, i].set(xticklabels=[], yticklabels=[], xticks=[], yticks=[])"
   ]
  },
  {
   "cell_type": "code",
   "execution_count": 3,
   "id": "753d3c59-6135-4f09-9193-1b863b4a3a2f",
   "metadata": {},
   "outputs": [
    {
     "name": "stdout",
     "output_type": "stream",
     "text": [
      "sample_img_batch.shape = torch.Size([2, 1, 40, 160])\n",
      "sample_count_batch[img_num] = tensor(4)\n"
     ]
    },
    {
     "data": {
      "image/png": "[encoded data removed]",
      "text/plain": [
       "<Figure size 640x480 with 1 Axes>"
      ]
     },
     "metadata": {},
     "output_type": "display_data"
    }
   ],
   "source": [
    "# dataset\n",
    "train_set = CaptchaDatasetUTN(data_path=train_path, img_transform=None, target_transform=None)\n",
    "val_set = CaptchaDatasetUTN(data_path=val_path, img_transform=None, target_transform=None)\n",
    "\n",
    "#dataloader\n",
    "train_loader = data.DataLoader(train_set, batch_size=batch_size)\n",
    "val_loader = data.DataLoader(val_set, batch_size=batch_size)\n",
    "sample_img_batch,  sample_count_batch = next(iter(train_loader))\n",
    "print(f\"{sample_img_batch.shape = }\")\n",
    "img_num = 0\n",
    "train_set.show(sample_img_batch[img_num])\n",
    "print(f\"{sample_count_batch[img_num] = }\")\n",
    "\n"
   ]
  },
  {
   "cell_type": "code",
   "execution_count": 5,
   "id": "b118afac-3324-4b1f-93a2-253b85796756",
   "metadata": {},
   "outputs": [],
   "source": [
    "import torch\n",
    "import torch.nn as nn\n",
    "\n",
    "class CountBackbone(nn.Module):\n",
    "    def __init__(self, input_channels=1, nr_filters=16, kernel_size=3):\n",
    "        super(CountBackbone, self).__init__()\n",
    "        # single conv layer for now\n",
    "        self.conv1 = nn.Conv2d(in_channels=input_channels, \n",
    "                        out_channels=nr_filters, \n",
    "                        kernel_size=kernel_size, \n",
    "                        stride=1, \n",
    "                        padding=1)\n",
    "\n",
    "        # fully connected layer ( for regression ) outputs character count\n",
    "        self.fc = nn.Linear(nr_filters, 1)\n",
    "\n",
    "    def forward(self, x):\n",
    "        # apply convolution\n",
    "        x = self.conv1(x) \n",
    "        # activation function\n",
    "        x = F.relu(x)\n",
    "        # global avg pooling\n",
    "        x = F.adaptive_avg_pool2d(x, (1, 1))\n",
    "        # flatten for the fuly  connected layer\n",
    "        x = torch.flatten(x, 1)\n",
    "        # output \n",
    "        x = self.fc(x)\n",
    "\n",
    "\n",
    "\n"
   ]
  },
  {
   "cell_type": "code",
   "execution_count": 6,
   "id": "3d27646f",
   "metadata": {},
   "outputs": [
    {
     "name": "stdout",
     "output_type": "stream",
     "text": [
      "CountBackbone(\n",
      "  (conv1): Conv2d(1, 16, kernel_size=(3, 3), stride=(1, 1), padding=(1, 1))\n",
      "  (fc): Linear(in_features=16, out_features=1, bias=True)\n",
      ")\n"
     ]
    }
   ],
   "source": [
    "model = CountBackbone()\n",
    "print(model)"
   ]
  }
 ],
 "metadata": {
  "kernelspec": {
   "display_name": "Python 3 (ipykernel)",
   "language": "python",
   "name": "python3"
  },
  "language_info": {
   "codemirror_mode": {
    "name": "ipython",
    "version": 3
   },
   "file_extension": ".py",
   "mimetype": "text/x-python",
   "name": "python",
   "nbconvert_exporter": "python",
   "pygments_lexer": "ipython3",
   "version": "3.10.12"
  }
 },
 "nbformat": 4,
 "nbformat_minor": 5
}
