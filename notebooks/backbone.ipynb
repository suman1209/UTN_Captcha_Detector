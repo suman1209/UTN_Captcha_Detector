{
 "cells": [
  {
   "cell_type": "code",
   "execution_count": null,
   "id": "b118afac-3324-4b1f-93a2-253b85796756",
   "metadata": {},
   "outputs": [],
   "source": []
  }
 ],
 "metadata": {
  "kernelspec": {
   "display_name": "",
   "name": ""
  },
  "language_info": {
   "name": ""
  }
 },
 "nbformat": 4,
 "nbformat_minor": 5
}
